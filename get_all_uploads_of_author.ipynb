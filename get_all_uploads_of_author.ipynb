{
 "cells": [
  {
   "cell_type": "markdown",
   "id": "d8ae1212",
   "metadata": {},
   "source": [
    "# Get All Uploads by Author\n",
    "\n",
    "This notebook demonstrates how to retrieve all uploads from a specific author using the NOMAD API through our custom `nomad_api` module."
   ]
  },
  {
   "cell_type": "code",
   "execution_count": null,
   "id": "98afdefe-de64-46c7-829b-269b8bcc8904",
   "metadata": {
    "tags": []
   },
   "outputs": [],
   "source": [
    "import os\n",
    "import numpy as np\n",
    "\n",
    "# Import from our nomad_api modules\n",
    "from nomad_api.client import NomadClient\n",
    "from nomad_api.auth import get_token_from_env, OASIS_OPTIONS\n",
    "from api_calls import get_client, get_uploads_by_author"
   ]
  },
  {
   "cell_type": "markdown",
   "id": "73d50002",
   "metadata": {},
   "source": [
    "## Set up the client\n",
    "\n",
    "We'll use the `get_client` function which handles API URL selection and token authentication."
   ]
  },
  {
   "cell_type": "code",
   "execution_count": null,
   "id": "9bd2e035",
   "metadata": {},
   "outputs": [],
   "source": [
    "# Use the SE Oasis by default\n",
    "client = get_client(oasis_name=\"SE Oasis\")\n",
    "print(f\"Connected to: {client.base_url}\")"
   ]
  },
  {
   "cell_type": "markdown",
   "id": "6dc0dfbf",
   "metadata": {},
   "source": [
    "## Get uploads by author\n",
    "\n",
    "Now we can use the `get_uploads_by_author` function to retrieve all lab_ids of uploads by a specific author."
   ]
  },
  {
   "cell_type": "code",
   "execution_count": null,
   "id": "f10db64a-1f53-479f-8be8-de068253f8d1",
   "metadata": {
    "tags": []
   },
   "outputs": [
    {
     "data": {
      "text/plain": [
       "[]"
      ]
     },
     "execution_count": 3,
     "metadata": {},
     "output_type": "execute_result"
    }
   ],
   "source": [
    "# Define the author name\n",
    "author_name = \"Feray Ünlü\"\n",
    "\n",
    "# Get all uploads by this author\n",
    "uploads = get_uploads_by_author(client=client, author=author_name)\n",
    "\n",
    "print(f\"Found {len(uploads)} uploads by {author_name}\")\n",
    "uploads"
   ]
  },
  {
   "cell_type": "markdown",
   "id": "8896267a",
   "metadata": {},
   "source": [
    "## Alternative direct approach\n",
    "\n",
    "You can also use the high-level function without explicitly creating a client first:"
   ]
  },
  {
   "cell_type": "code",
   "execution_count": null,
   "id": "f9c0d088-885e-4483-b279-0ca5b879fff7",
   "metadata": {},
   "outputs": [],
   "source": [
    "# Alternative approach using just the function with default parameters\n",
    "uploads_alt = get_uploads_by_author(author=\"Feray Ünlü\")\n",
    "print(f\"Found {len(uploads_alt)} uploads\")\n",
    "\n",
    "# Verify both methods return the same results\n",
    "print(f\"Results match: {sorted(uploads) == sorted(uploads_alt)}\")"
   ]
  },
  {
   "cell_type": "markdown",
   "id": "b7a273eb",
   "metadata": {},
   "source": [
    "## Working with the results\n",
    "\n",
    "You can now analyze or process these uploads as needed. For example, count the uploads or further query information about them."
   ]
  },
  {
   "cell_type": "code",
   "execution_count": null,
   "id": "a7bb28e9",
   "metadata": {},
   "outputs": [],
   "source": [
    "# Example: Show first few upload IDs\n",
    "if uploads:\n",
    "    print(\"First 5 uploads:\")\n",
    "    for i, upload_id in enumerate(uploads[:5]):\n",
    "        print(f\"  {i+1}. {upload_id}\")\n",
    "else:\n",
    "    print(\"No uploads found.\")"
   ]
  }
 ],
 "metadata": {
  "kernelspec": {
   "display_name": "Python 3 (ipykernel)",
   "language": "python",
   "name": "python3"
  },
  "language_info": {
   "codemirror_mode": {
    "name": "ipython",
    "version": 3
   },
   "file_extension": ".py",
   "mimetype": "text/x-python",
   "name": "python",
   "nbconvert_exporter": "python",
   "pygments_lexer": "ipython3",
   "version": "3.10.10"
  }
 },
 "nbformat": 4,
 "nbformat_minor": 5
}
