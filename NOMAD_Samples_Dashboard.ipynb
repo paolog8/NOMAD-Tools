{
 "cells": [
  {
   "cell_type": "markdown",
   "id": "dashboard-title",
   "metadata": {},
   "source": [
    "# NOMAD Samples Dashboard\n",
    "\n",
    "This dashboard provides a modern interface for managing and analyzing HySprint samples in NOMAD. Key features:\n",
    "\n",
    "1. **Authentication**: Secure connection to NOMAD Oasis instances\n",
    "2. **Sample Management**: View and manage HySprint sample data\n",
    "3. **Author Attribution**: Track and override sample attributions\n",
    "4. **Analytics**: Visualize sample statistics and trends\n",
    "5. **Cache Management**: Efficiently manage data caching\n",
    "\n",
    "## Setup and Dependencies"
   ]
  },
  {
   "cell_type": "code",
   "execution_count": null,
   "id": "imports",
   "metadata": {},
   "outputs": [],
   "source": [
    "# Import required libraries\n",
    "import ipywidgets as widgets\n",
    "from ipywidgets import HBox, VBox, Button, Text, Password, Label, Dropdown\n",
    "from IPython.display import display, clear_output, FileLink\n",
    "import os\n",
    "import json\n",
    "import pandas as pd\n",
    "import numpy as np\n",
    "import matplotlib.pyplot as plt\n",
    "import seaborn as sns\n",
    "import plotly.express as px\n",
    "import plotly.graph_objects as go\n",
    "from pathlib import Path\n",
    "from datetime import datetime, timedelta\n",
    "import asyncio\n",
    "from IPython.lib.backgroundjobs import BackgroundJobManager\n",
    "jobs = BackgroundJobManager()\n",
    "\n",
    "# Configure plotting\n",
    "%matplotlib inline\n",
    "plt.style.use('seaborn-v0_8-whitegrid')\n",
    "\n",
    "# Import NOMAD modules\n",
    "%run 'nomad_auth.ipynb'\n",
    "%run 'nomad_data_retrieval.ipynb'\n",
    "%run 'nomad_attribution.ipynb'\n",
    "%run 'nomad_visualization.ipynb'\n",
    "%run 'nomad_cache.ipynb'\n",
    "from nomad_data import load_attributions, save_attributions"
   ]
  },
  {
   "cell_type": "markdown",
   "id": "auth-section",
   "metadata": {},
   "source": [
    "## Authentication Tab"
   ]
  },
  {
   "cell_type": "code",
   "execution_count": 2,
   "id": "auth-code",
   "metadata": {},
   "outputs": [],
   "source": [
    "def create_auth_tab():\n",
    "    \"\"\"Create the authentication tab using nomad_auth functionality\"\"\"\n",
    "    auth_ui = widgets.VBox([\n",
    "        widgets.HTML(\"<h3>NOMAD Authentication</h3>\"),\n",
    "        widgets.HTML(\"<p>Please authenticate with NOMAD to access data.</p>\"),\n",
    "        general_settings_box  # From nomad_auth.ipynb\n",
    "    ])\n",
    "    \n",
    "    # Create wrapper for authentication state\n",
    "    auth_state = {\n",
    "        'is_authenticated': lambda: api_client is not None,\n",
    "        'token': lambda: current_token,\n",
    "        'user_info': lambda: current_user_info,\n",
    "        'client': lambda: api_client,\n",
    "        'oasis': lambda: oasis_dropdown.value if oasis_dropdown.value else None,\n",
    "        'oasis_url': lambda: oasis_options.get(oasis_dropdown.value, None) if oasis_dropdown.value else None\n",
    "    }\n",
    "    \n",
    "    return auth_ui, auth_state"
   ]
  },
  {
   "cell_type": "markdown",
   "id": "64373821",
   "metadata": {},
   "source": [
    "## Data Retrieval Tab"
   ]
  },
  {
   "cell_type": "code",
   "execution_count": 3,
   "id": "data-code",
   "metadata": {},
   "outputs": [],
   "source": [
    "def initialize_data_tab(auth_state):\n",
    "    \"\"\"Create the data retrieval tab using the modular nomad_data_retrieval functionality\"\"\"\n",
    "    # Use the modular data retrieval component from nomad_data_retrieval.ipynb\n",
    "    return create_data_tab(auth_state)"
   ]
  },
  {
   "cell_type": "markdown",
   "id": "4a09a337",
   "metadata": {},
   "source": [
    "## Attribution Management Tab"
   ]
  },
  {
   "cell_type": "code",
   "execution_count": 4,
   "id": "fefe4a6f",
   "metadata": {},
   "outputs": [],
   "source": [
    "def initialize_attribution_tab(data_state):\n",
    "    \"\"\"Create the attribution tab using the modular nomad_attribution functionality\"\"\"\n",
    "    # Use the modular attribution component from nomad_attribution.ipynb\n",
    "    return create_attribution_tab(data_state)"
   ]
  },
  {
   "cell_type": "markdown",
   "id": "visualization-section",
   "metadata": {},
   "source": [
    "## Visualization Tab"
   ]
  },
  {
   "cell_type": "code",
   "execution_count": 5,
   "id": "visualization-code",
   "metadata": {},
   "outputs": [],
   "source": [
    "def initialize_visualization_tab(data_state):\n",
    "    \"\"\"Create the visualization tab using the modular nomad_visualization functionality\"\"\"\n",
    "    return create_visualization_tab(data_state)"
   ]
  },
  {
   "cell_type": "markdown",
   "id": "9203335a",
   "metadata": {},
   "source": [
    "## Cache Management Tab"
   ]
  },
  {
   "cell_type": "code",
   "execution_count": null,
   "id": "389c125d",
   "metadata": {},
   "outputs": [],
   "source": [
    "# Initialize the cache management tab using the modular component\n",
    "def initialize_cache_tab():\n",
    "    \"\"\"Create the cache management tab using the modular nomad_cache functionality\"\"\"\n",
    "    return create_cache_tab()"
   ]
  },
  {
   "cell_type": "markdown",
   "id": "main-section",
   "metadata": {},
   "source": [
    "## Main Dashboard"
   ]
  },
  {
   "cell_type": "code",
   "execution_count": null,
   "id": "c1f2aaa7",
   "metadata": {},
   "outputs": [
    {
     "name": "stdout",
     "output_type": "stream",
     "text": [
      "Loaded 23 attribution overrides\n"
     ]
    },
    {
     "data": {
      "application/vnd.jupyter.widget-view+json": {
       "model_id": "062b61f398ad4e868aeeb20ca4a7a35c",
       "version_major": 2,
       "version_minor": 0
      },
      "text/plain": [
       "VBox(children=(HTML(value='\\n        <div style=\"background-color: #4CAF50; color: white; padding: 10px; text-…"
      ]
     },
     "metadata": {},
     "output_type": "display_data"
    }
   ],
   "source": [
    "def create_dashboard():\n",
    "    \"\"\"Create and display the main dashboard with dynamic tab widths.\"\"\"\n",
    "\n",
    "    # Create authentication tab\n",
    "    auth_tab, auth_state = create_auth_tab()\n",
    "\n",
    "    # Create data tab using the modular component\n",
    "    data_tab, data_state = initialize_data_tab(auth_state)\n",
    "\n",
    "    # Create attribution tab\n",
    "    attribution_tab = initialize_attribution_tab(data_state)\n",
    "\n",
    "    # Create visualization tab\n",
    "    viz_tab = create_visualization_tab(data_state)\n",
    "\n",
    "    # Create cache management tab\n",
    "    cache_tab = initialize_cache_tab()\n",
    "\n",
    "    # Create tab widget\n",
    "    tab_widget = widgets.Tab([auth_tab, data_tab, attribution_tab, viz_tab, cache_tab])\n",
    "\n",
    "    # Set tab titles\n",
    "    tab_widget.set_title(0, \"Authentication\")\n",
    "    tab_widget.set_title(1, \"Data Retrieval\")\n",
    "    tab_widget.set_title(2, \"Attribution Management\")\n",
    "    tab_widget.set_title(3, \"Visualizations\")\n",
    "    tab_widget.set_title(4, \"Cache Management\")\n",
    "\n",
    "    # --- REVISED CSS for Dynamic Tab Width ---\n",
    "    # Inject CSS to style the tab headers.\n",
    "    # NOTE: You may need to INSPECT the element in your browser\n",
    "    # and ADJUST the class selectors (.p-TabBar-tab, .jp-TabBar-tab, etc.)\n",
    "    # to match *your* specific Jupyter environment.\n",
    "    tab_styling = widgets.HTML(\"\"\"\n",
    "    <style>\n",
    "    /* Try targeting common classes directly */\n",
    "    .lm-TabBar-tab, .p-TabBar-tab, .jp-TabBar-tab {\n",
    "        min-width: 100px !important;   /* Keep a minimum width */\n",
    "        width: auto !important;        /* Allow expansion based on content */\n",
    "        max-width: none !important;    /* Ensure no max-width is limiting it */\n",
    "        flex: 0 0 auto !important;     /* Equivalent to flex-grow:0, flex-shrink:0, flex-basis:auto */\n",
    "        padding-left: 15px !important; /* Add horizontal padding */\n",
    "        padding-right: 15px !important;/* Add horizontal padding */\n",
    "        white-space: nowrap !important; /* Prevent text wrapping */\n",
    "        overflow: visible !important;  /* Ensure content isn't clipped */\n",
    "        border: 1px solid #ccc !important; /* Add border for visibility if needed */\n",
    "        margin-right: 2px !important; /* Add spacing between tabs */\n",
    "    }\n",
    "\n",
    "    /* Target the label inside specifically */\n",
    "    .lm-TabBar-tab-label, .p-TabBar-tab-label, .jp-TabBar-tab-label {\n",
    "        white-space: nowrap !important; /* Prevent text wrapping */\n",
    "        overflow: visible !important;   /* Ensure label text isn't clipped */\n",
    "        display: inline-block !important; /* Helps with sizing */\n",
    "    }\n",
    "    </style>\n",
    "    \"\"\")\n",
    "\n",
    "    # Create dashboard container with header, styling, and tabs\n",
    "    dashboard = widgets.VBox(\n",
    "        [\n",
    "            widgets.HTML(\"\"\"\n",
    "        <div style=\"background-color: #4CAF50; color: white; padding: 10px; text-align: center; border-radius: 5px;\">\n",
    "            <h1>NOMAD Samples Dashboard</h1>\n",
    "            <p>Manage and analyze HySprint samples in NOMAD</p>\n",
    "        </div>\n",
    "        \"\"\"),\n",
    "            tab_styling,  # Add the CSS styling widget here\n",
    "            tab_widget,  # Add the tab widget\n",
    "        ]\n",
    "    )\n",
    "\n",
    "    return dashboard\n",
    "\n",
    "\n",
    "# --- Run the Dashboard ---\n",
    "# Create and display the dashboard\n",
    "dashboard = create_dashboard()\n",
    "display(dashboard)\n"
   ]
  }
 ],
 "metadata": {
  "kernelspec": {
   "display_name": ".venv",
   "language": "python",
   "name": "python3"
  },
  "language_info": {
   "codemirror_mode": {
    "name": "ipython",
    "version": 3
   },
   "file_extension": ".py",
   "mimetype": "text/x-python",
   "name": "python",
   "nbconvert_exporter": "python",
   "pygments_lexer": "ipython3",
   "version": "3.11.11"
  }
 },
 "nbformat": 4,
 "nbformat_minor": 5
}
