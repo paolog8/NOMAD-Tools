{
 "cells": [
  {
   "cell_type": "markdown",
   "id": "f5f4f37e",
   "metadata": {},
   "source": [
    "# NOMAD API Authentication\n",
    "\n",
    "This notebook demonstrates how to authenticate with the NOMAD API using the utilities from the `nomad_api` package."
   ]
  },
  {
   "cell_type": "code",
   "execution_count": null,
   "id": "a39c691e",
   "metadata": {},
   "outputs": [],
   "source": [
    "# Import the authentication module from the nomad_api package\n",
    "import os\n",
    "import sys\n",
    "import json\n",
    "import pandas as pd\n",
    "from pathlib import Path\n",
    "\n",
    "# Add parent directory to path if needed\n",
    "sys.path.append(os.path.abspath(os.path.dirname(os.getcwd())))\n",
    "\n",
    "from nomad_api.auth import authenticate, OASIS_OPTIONS, get_token, verify_token"
   ]
  },
  {
   "cell_type": "markdown",
   "id": "e8b028b4",
   "metadata": {},
   "source": [
    "## Available NOMAD Instances\n",
    "\n",
    "The authentication module defines several NOMAD instances you can connect to:"
   ]
  },
  {
   "cell_type": "code",
   "execution_count": 5,
   "id": "59b19ff3",
   "metadata": {},
   "outputs": [
    {
     "name": "stdout",
     "output_type": "stream",
     "text": [
      "Available NOMAD instances:\n",
      "- SE Oasis: https://nomad-hzb-se.de/nomad-oasis/api/v1\n",
      "- CE Oasis: https://nomad-hzb-ce.de/nomad-oasis/api/v1\n",
      "- Sol-AI Oasis: https://nomad-sol-ai.de/nomad-oasis/api/v1\n"
     ]
    }
   ],
   "source": [
    "# Display available NOMAD instances\n",
    "print(\"Available NOMAD instances:\")\n",
    "for name, url in OASIS_OPTIONS.items():\n",
    "    print(f\"- {name}: {url}\")\n"
   ]
  },
  {
   "cell_type": "code",
   "execution_count": 6,
   "id": "38c24fb0",
   "metadata": {},
   "outputs": [
    {
     "name": "stdout",
     "output_type": "stream",
     "text": [
      "\n",
      "Using instance: SE Oasis (https://nomad-hzb-se.de/nomad-oasis/api/v1)\n"
     ]
    }
   ],
   "source": [
    "\n",
    "# Set the instance you want to use\n",
    "selected_instance = \"SE Oasis\"  # Change this to your desired instance\n",
    "base_url = OASIS_OPTIONS[selected_instance]\n",
    "print(f\"\\nUsing instance: {selected_instance} ({base_url})\")"
   ]
  },
  {
   "cell_type": "markdown",
   "id": "48d31f06",
   "metadata": {},
   "source": [
    "## Authentication Methods\n",
    "\n",
    "There are several ways to authenticate with the NOMAD API:\n",
    "\n",
    "1. **Auto method**: Tries to use token from environment, then username/password from environment\n",
    "2. **Token method**: Uses the NOMAD_CLIENT_ACCESS_TOKEN environment variable\n",
    "3. **Password method**: Uses username and password provided directly\n",
    "\n",
    "Below are examples of each method:"
   ]
  },
  {
   "cell_type": "markdown",
   "id": "3e948601",
   "metadata": {},
   "source": [
    "### Method 1: Automatic Authentication (Recommended)\n",
    "\n",
    "This method tries various authentication sources in sequence."
   ]
  },
  {
   "cell_type": "code",
   "execution_count": 7,
   "id": "83511425",
   "metadata": {},
   "outputs": [
    {
     "name": "stdout",
     "output_type": "stream",
     "text": [
      "Successfully authenticated as: Paolo Graniero\n",
      "Your user ID: 36705df2-2d25-4421-a247-2995ef5cdcc0\n",
      "\n",
      "Token (first 20 chars): eyJhbGciOiJSUzI1NiIs...\n"
     ]
    }
   ],
   "source": [
    "try:\n",
    "    token, user_info = authenticate(base_url, method=\"auto\")\n",
    "    print(f\"Successfully authenticated as: {user_info.get('name', user_info.get('username', 'Unknown user'))}\")\n",
    "    print(f\"Your user ID: {user_info.get('user_id', 'Unknown')}\")\n",
    "    print(f\"\\nToken (first 20 chars): {token[:20]}...\")\n",
    "except ValueError as e:\n",
    "    print(f\"Authentication failed: {e}\")"
   ]
  },
  {
   "cell_type": "code",
   "execution_count": 8,
   "id": "f0d25fb5",
   "metadata": {},
   "outputs": [],
   "source": [
    "client = NomadClient(base_url, token)"
   ]
  },
  {
   "cell_type": "code",
   "execution_count": 12,
   "id": "e9f87430",
   "metadata": {},
   "outputs": [],
   "source": [
    "# General structure:\n",
    "# client.make_request(method, endpoint, params=None, json_data=None, timeout=10)\n",
    "\n",
    "headers = {\"Authorization\": f\"Bearer {token}\", \"page_size\": 100}\n",
    "response = client.make_request(\"get\", \"uploads\", params=headers)"
   ]
  },
  {
   "cell_type": "code",
   "execution_count": 13,
   "id": "affbd74f",
   "metadata": {},
   "outputs": [
    {
     "data": {
      "text/plain": [
       "94"
      ]
     },
     "execution_count": 13,
     "metadata": {},
     "output_type": "execute_result"
    }
   ],
   "source": [
    "len(response[\"data\"])"
   ]
  },
  {
   "cell_type": "code",
   "execution_count": 15,
   "id": "b62992d2",
   "metadata": {},
   "outputs": [
    {
     "data": {
      "text/plain": [
       "dict_keys(['process_running', 'current_process', 'process_status', 'last_status_message', 'errors', 'warnings', 'complete_time', 'upload_id', 'upload_name', 'upload_create_time', 'main_author', 'coauthors', 'coauthor_groups', 'reviewers', 'reviewer_groups', 'writers', 'writer_groups', 'viewers', 'viewer_groups', 'published', 'published_to', 'with_embargo', 'embargo_length', 'license', 'entries', 'upload_files_server_path'])"
      ]
     },
     "execution_count": 15,
     "metadata": {},
     "output_type": "execute_result"
    }
   ],
   "source": [
    "response[\"data\"][0].keys()"
   ]
  },
  {
   "cell_type": "code",
   "execution_count": 27,
   "id": "498dceda",
   "metadata": {},
   "outputs": [
    {
     "name": "stdout",
     "output_type": "stream",
     "text": [
      "Found 1363 matching entries\n"
     ]
    }
   ],
   "source": [
    "# Define the query payload\n",
    "query_payload = {\n",
    "    \"owner\": \"visible\",\n",
    "    \"query\": {\n",
    "        \"and\": [\n",
    "            {\"results.eln.sections:any\": [\"HySprint_Sample\"]},\n",
    "            {\"quantities:all\": [\"data\"]},\n",
    "        ]\n",
    "    },\n",
    "}\n",
    "\n",
    "# Make sure the client has the token - the NomadClient should handle authentication automatically\n",
    "response_entries = client.make_request(\n",
    "    \"post\", \"entries/query\", json_data=query_payload\n",
    ")\n",
    "\n",
    "# Print the number of entries found\n",
    "print(\n",
    "    f\"Found {response_entries.get('pagination', {}).get('total', 0)} matching entries\"\n",
    ")\n"
   ]
  },
  {
   "cell_type": "code",
   "execution_count": 38,
   "id": "8106ef66",
   "metadata": {},
   "outputs": [
    {
     "data": {
      "text/plain": [
       "{'upload_id': 'tMZ_IUSbQGSyMWy8cb_BYQ',\n",
       " 'references': [],\n",
       " 'origin': 'Paolo Graniero',\n",
       " 'text_search_contents': ['pin',\n",
       "  'Test experiment HZB_PaGr_20240527_Test-experiment_1_2',\n",
       "  'HZB_PaGr_20240527_Test-experiment_1_2'],\n",
       " 'quantities': ['',\n",
       "  'data',\n",
       "  'data.architecture',\n",
       "  'data.datetime',\n",
       "  'data.lab_id',\n",
       "  'data.name',\n",
       "  'data.substrate',\n",
       "  'metadata',\n",
       "  'metadata.coauthor_groups',\n",
       "  'metadata.coauthors',\n",
       "  'metadata.datasets',\n",
       "  'metadata.embargo_length',\n",
       "  'metadata.entry_coauthors',\n",
       "  'metadata.entry_create_time',\n",
       "  'metadata.entry_hash',\n",
       "  'metadata.entry_id',\n",
       "  'metadata.entry_name',\n",
       "  'metadata.entry_references',\n",
       "  'metadata.entry_references.source_name',\n",
       "  'metadata.entry_references.source_path',\n",
       "  'metadata.entry_references.source_quantity',\n",
       "  'metadata.entry_references.target_entry_id',\n",
       "  'metadata.entry_references.target_mainfile',\n",
       "  'metadata.entry_references.target_name',\n",
       "  'metadata.entry_references.target_path',\n",
       "  'metadata.entry_references.target_reference',\n",
       "  'metadata.entry_references.target_upload_id',\n",
       "  'metadata.entry_timestamp',\n",
       "  'metadata.entry_timestamp.timestamp',\n",
       "  'metadata.entry_timestamp.token',\n",
       "  'metadata.entry_timestamp.token_seed',\n",
       "  'metadata.entry_timestamp.tsa_server',\n",
       "  'metadata.entry_type',\n",
       "  'metadata.files',\n",
       "  'metadata.last_processing_time',\n",
       "  'metadata.license',\n",
       "  'metadata.main_author',\n",
       "  'metadata.mainfile',\n",
       "  'metadata.nomad_commit',\n",
       "  'metadata.nomad_version',\n",
       "  'metadata.parser_name',\n",
       "  'metadata.processed',\n",
       "  'metadata.processing_errors',\n",
       "  'metadata.published',\n",
       "  'metadata.quantities',\n",
       "  'metadata.references',\n",
       "  'metadata.reviewer_groups',\n",
       "  'metadata.reviewers',\n",
       "  'metadata.section_defs',\n",
       "  'metadata.section_defs.definition_id',\n",
       "  'metadata.section_defs.definition_qualified_name',\n",
       "  'metadata.section_defs.used_directly',\n",
       "  'metadata.sections',\n",
       "  'metadata.upload_create_time',\n",
       "  'metadata.upload_id',\n",
       "  'metadata.upload_name',\n",
       "  'metadata.with_embargo',\n",
       "  'results',\n",
       "  'results.eln',\n",
       "  'results.eln.lab_ids',\n",
       "  'results.eln.names',\n",
       "  'results.eln.sections',\n",
       "  'results.material',\n",
       "  'results.material.elements',\n",
       "  'results.properties',\n",
       "  'results.properties.optoelectronic',\n",
       "  'results.properties.optoelectronic.solar_cell',\n",
       "  'results.properties.optoelectronic.solar_cell.absorber',\n",
       "  'results.properties.optoelectronic.solar_cell.absorber_fabrication',\n",
       "  'results.properties.optoelectronic.solar_cell.back_contact',\n",
       "  'results.properties.optoelectronic.solar_cell.device_architecture',\n",
       "  'results.properties.optoelectronic.solar_cell.device_stack',\n",
       "  'results.properties.optoelectronic.solar_cell.electron_transport_layer',\n",
       "  'results.properties.optoelectronic.solar_cell.hole_transport_layer',\n",
       "  'results.properties.optoelectronic.solar_cell.substrate'],\n",
       " 'datasets': [],\n",
       " 'n_quantities': 58,\n",
       " 'nomad_version': '1.3.2.dev6+g0f2a9a3ad',\n",
       " 'upload_create_time': '2024-05-27T12:59:39.741000+00:00',\n",
       " 'nomad_commit': '',\n",
       " 'section_defs': [{'used_directly': True,\n",
       "   'definition_id': '3f89956f80ec1affa83592d10412aeaecf5a941e',\n",
       "   'definition_qualified_name': 'baseclasses.solar_energy.solarcellsample.SolcarCellSample'},\n",
       "  {'used_directly': True,\n",
       "   'definition_id': '7047cbff9980abff17cce4b1b6b0d1c783505b7f',\n",
       "   'definition_qualified_name': 'nomad.datamodel.data.ArchiveSection'},\n",
       "  {'used_directly': True,\n",
       "   'definition_id': '538f52fd8d52b29372066f878319c6aeb03b74d2',\n",
       "   'definition_qualified_name': 'nomad.datamodel.data.EntryData'},\n",
       "  {'used_directly': True,\n",
       "   'definition_id': '6d03dc6e4e1d4ba186e88264c213da9c03947c9c',\n",
       "   'definition_qualified_name': 'nomad.datamodel.datamodel.EntryArchive'},\n",
       "  {'used_directly': True,\n",
       "   'definition_id': '2b88e559023cd996cfda4abfaf5754fd26e03e44',\n",
       "   'definition_qualified_name': 'nomad.datamodel.datamodel.EntryArchiveReference'},\n",
       "  {'used_directly': True,\n",
       "   'definition_id': '08e24de48352035bcc932ed9934875ed9b10188e',\n",
       "   'definition_qualified_name': 'nomad.datamodel.datamodel.EntryMetadata'},\n",
       "  {'used_directly': True,\n",
       "   'definition_id': '265ae33dbc9ace82b50260c1050d30c59ef9cb3c',\n",
       "   'definition_qualified_name': 'nomad.datamodel.datamodel.RFC3161Timestamp'},\n",
       "  {'used_directly': False,\n",
       "   'definition_id': 'add2edfa25a61ff3bbfdebacc870181f64f41634',\n",
       "   'definition_qualified_name': 'nomad.datamodel.metainfo.basesections.BaseSection'},\n",
       "  {'used_directly': False,\n",
       "   'definition_id': 'c7254c9b461a4baec86cb3179e2f84513f5c9053',\n",
       "   'definition_qualified_name': 'nomad.datamodel.metainfo.basesections.CompositeSystem'},\n",
       "  {'used_directly': False,\n",
       "   'definition_id': '7ce6bdcaa183a9685582b275e1c2b2ea3139c74d',\n",
       "   'definition_qualified_name': 'nomad.datamodel.metainfo.basesections.Entity'},\n",
       "  {'used_directly': False,\n",
       "   'definition_id': '3ab3a09d615ab58aefbaa3acdd8d6af4e73aaae5',\n",
       "   'definition_qualified_name': 'nomad.datamodel.metainfo.basesections.System'},\n",
       "  {'used_directly': True,\n",
       "   'definition_id': 'eeed330bd18d40f3a2a00cc35ba6f58808d0c543',\n",
       "   'definition_qualified_name': 'nomad.datamodel.results.ELN'},\n",
       "  {'used_directly': True,\n",
       "   'definition_id': 'f03e228478972e389a4e56c3b4dfe168d18145f4',\n",
       "   'definition_qualified_name': 'nomad.datamodel.results.Material'},\n",
       "  {'used_directly': True,\n",
       "   'definition_id': 'f7cf907b8844bd8dba3b51970f8caa5e525944eb',\n",
       "   'definition_qualified_name': 'nomad.datamodel.results.OptoelectronicProperties'},\n",
       "  {'used_directly': True,\n",
       "   'definition_id': 'f6d62b2664a0c37e0c82d4cb570e5e177e445e05',\n",
       "   'definition_qualified_name': 'nomad.datamodel.results.Properties'},\n",
       "  {'used_directly': True,\n",
       "   'definition_id': 'd77c26594ec0501fb0de8daaa4d7b25d54b9e0cf',\n",
       "   'definition_qualified_name': 'nomad.datamodel.results.Results'},\n",
       "  {'used_directly': True,\n",
       "   'definition_id': '07a7e7f7d21c6565fe085633cb5455c8b47a5a8c',\n",
       "   'definition_qualified_name': 'nomad.datamodel.results.SolarCell'},\n",
       "  {'used_directly': True,\n",
       "   'definition_id': 'abb2d3a3a1ef5c91f89555d04c67bbdb54f84414',\n",
       "   'definition_qualified_name': 'nomad_hysprint.schema_packages.hysprint_package.HySprint_Sample'}],\n",
       " 'processing_errors': [],\n",
       " 'results': {'material': {'elements': ['I',\n",
       "    'N',\n",
       "    'Sn',\n",
       "    'H',\n",
       "    'Cu',\n",
       "    'Pb',\n",
       "    'O',\n",
       "    'Li',\n",
       "    'F',\n",
       "    'C'],\n",
       "   'elements_exclusive': 'C Cu F H I Li N O Pb Sn',\n",
       "   'structural_type': 'not processed',\n",
       "   'n_elements': 10},\n",
       "  'eln': {'names': ['Test experiment HZB_PaGr_20240527_Test-experiment_1_2'],\n",
       "   'sections': ['HySprint_Sample'],\n",
       "   'lab_ids': ['HZB_PaGr_20240527_Test-experiment_1_2']},\n",
       "  'properties': {'optoelectronic': {'solar_cell': {'absorber_fabrication': ['Slot Die Coating'],\n",
       "     'device_stack': ['glass',\n",
       "      'ITO',\n",
       "      'Me-4PACz',\n",
       "      'MA0.6FA0.4PbI3',\n",
       "      'LiF',\n",
       "      'C60',\n",
       "      'SnO2',\n",
       "      'Cu',\n",
       "      'Silver'],\n",
       "     'hole_transport_layer': ['Me-4PACz'],\n",
       "     'back_contact': ['Cu', 'Silver'],\n",
       "     'absorber': ['MA0.6FA0.4PbI3'],\n",
       "     'substrate': ['glass', 'ITO'],\n",
       "     'electron_transport_layer': ['C60'],\n",
       "     'device_architecture': 'pin'}},\n",
       "   'available_properties': ['solar_cell']}},\n",
       " 'entry_name': 'Test experiment HZB_PaGr_20240527_Test-experiment_1_2',\n",
       " 'last_processing_time': '2024-10-08T20:18:53.619000+00:00',\n",
       " 'parser_name': 'parsers/archive',\n",
       " 'calc_id': '-20CjHDeyUtPDI4E7EpFo-K5JFH-',\n",
       " 'published': False,\n",
       " 'writers': [{'user_id': '36705df2-2d25-4421-a247-2995ef5cdcc0',\n",
       "   'name': 'Paolo Graniero'}],\n",
       " 'writer_groups': [],\n",
       " 'sections': ['nomad.datamodel.datamodel.EntryArchive',\n",
       "  'nomad.datamodel.datamodel.EntryArchiveReference',\n",
       "  'nomad.datamodel.datamodel.EntryMetadata',\n",
       "  'nomad.datamodel.datamodel.RFC3161Timestamp',\n",
       "  'nomad.datamodel.results.ELN',\n",
       "  'nomad.datamodel.results.Material',\n",
       "  'nomad.datamodel.results.OptoelectronicProperties',\n",
       "  'nomad.datamodel.results.Properties',\n",
       "  'nomad.datamodel.results.Results',\n",
       "  'nomad.datamodel.results.SolarCell',\n",
       "  'nomad_hysprint.schema_packages.hysprint_package.HySprint_Sample'],\n",
       " 'processed': True,\n",
       " 'mainfile': 'HZB_PaGr_20240527_Test-experiment_1_2.archive.json',\n",
       " 'main_author': {'user_id': '36705df2-2d25-4421-a247-2995ef5cdcc0',\n",
       "  'name': 'Paolo Graniero'},\n",
       " 'viewers': [{'user_id': '36705df2-2d25-4421-a247-2995ef5cdcc0',\n",
       "   'name': 'Paolo Graniero'}],\n",
       " 'viewer_groups': [],\n",
       " 'entry_create_time': '2024-05-27T13:08:07.583000+00:00',\n",
       " 'with_embargo': False,\n",
       " 'search_quantities': [{'path_archive': 'data.name',\n",
       "   'str_value': 'Test experiment HZB_PaGr_20240527_Test-experiment_1_2',\n",
       "   'definition': 'nomad.datamodel.metainfo.basesections.BaseSection.name',\n",
       "   'id': 'data.name#nomad_hysprint.schema_packages.hysprint_package.HySprint_Sample'},\n",
       "  {'path_archive': 'data.datetime',\n",
       "   'datetime_value': '2024-05-27T13:01:36.703350+00:00',\n",
       "   'definition': 'nomad.datamodel.metainfo.basesections.BaseSection.datetime',\n",
       "   'id': 'data.datetime#nomad_hysprint.schema_packages.hysprint_package.HySprint_Sample'},\n",
       "  {'path_archive': 'data.lab_id',\n",
       "   'str_value': 'HZB_PaGr_20240527_Test-experiment_1_2',\n",
       "   'definition': 'nomad.datamodel.metainfo.basesections.BaseSection.lab_id',\n",
       "   'id': 'data.lab_id#nomad_hysprint.schema_packages.hysprint_package.HySprint_Sample'},\n",
       "  {'path_archive': 'data.architecture',\n",
       "   'str_value': 'pin',\n",
       "   'definition': 'baseclasses.solar_energy.solarcellsample.SolcarCellSample.architecture',\n",
       "   'id': 'data.architecture#nomad_hysprint.schema_packages.hysprint_package.HySprint_Sample'}],\n",
       " 'files': ['HZB_PaGr_20240527_Test-experiment_1_2.archive.json',\n",
       "  '10_Ag_electode_(Final_contact)_HZB_PaGr_20240527_Test-experiment.archive.json',\n",
       "  '11_P3_scribing_(Cu_(opaque)_layer_stake_patterning)_HZB_PaGr_20240527_Test-experiment.archive.json',\n",
       "  '12_P4_scribing_(Edge_cleaning)_HZB_PaGr_20240527_Test-experiment.archive.json',\n",
       "  '13_Premeasurement_Steps_HZB_PaGr_20240527_Test-experiment.archive.json',\n",
       "  '1_P1_scribing_(ITO_electrode_patterning)_14_HZB_PaGr_20240527_Test-experiment.archive.json',\n",
       "  '1_P1_scribing_(ITO_electrode_patterning)_34_HZB_PaGr_20240527_Test-experiment.archive.json',\n",
       "  '1_P1_scribing_(ITO_electrode_patterning)_45_HZB_PaGr_20240527_Test-experiment.archive.json',\n",
       "  '1_P1_scribing_(ITO_electrode_patterning)_463_HZB_PaGr_20240527_Test-experiment.archive.json',\n",
       "  '2_GlassITO_substrate_cleaning_HZB_PaGr_20240527_Test-experiment.archive.json',\n",
       "  '3_Me4PACz_HZB_PaGr_20240527_Test-experiment.archive.json',\n",
       "  '4_MAFA_perovskite_slot_die_coating_HZB_PaGr_20240527_Test-experiment.archive.json',\n",
       "  '5_evapoartion_LiF_HZB_PaGr_20240527_Test-experiment.archive.json',\n",
       "  '6_evapoartion_C60_HZB_PaGr_20240527_Test-experiment.archive.json',\n",
       "  '7_SnO2_atomic_layer_deposition_HZB_PaGr_20240527_Test-experiment.archive.json',\n",
       "  '8_P2_scribing_(SAMperovskiteLiFC60SnO2_layer_stack_patterning)_HZB_PaGr_20240527_Test-experiment.archive.json',\n",
       "  '9_evaporation_Cu_HZB_PaGr_20240527_Test-experiment.archive.json',\n",
       "  'HZB_PaGr_20240527_Test-experiment.archive.json',\n",
       "  'HZB_PaGr_20240527_Test-experiment_0.archive.json',\n",
       "  'HZB_PaGr_20240527_Test-experiment_0_0.archive.json',\n",
       "  'HZB_PaGr_20240527_Test-experiment_0_1.archive.json',\n",
       "  'HZB_PaGr_20240527_Test-experiment_0_2.archive.json',\n",
       "  'HZB_PaGr_20240527_Test-experiment_0_3.archive.json',\n",
       "  'HZB_PaGr_20240527_Test-experiment_0_4.archive.json',\n",
       "  'HZB_PaGr_20240527_Test-experiment_1.archive.json',\n",
       "  'HZB_PaGr_20240527_Test-experiment_1_0.archive.json',\n",
       "  'HZB_PaGr_20240527_Test-experiment_1_1.archive.json',\n",
       "  'HZB_PaGr_20240527_Test-experiment_1_3.archive.json',\n",
       "  'HZB_PaGr_20240527_Test-experiment_1_4.archive.json',\n",
       "  'HZB_PaGr_20240527_Test-experiment_2.archive.json',\n",
       "  'HZB_PaGr_20240527_Test-experiment_2_0.archive.json',\n",
       "  'HZB_PaGr_20240527_Test-experiment_2_1.archive.json',\n",
       "  'HZB_PaGr_20240527_Test-experiment_2_2.archive.json',\n",
       "  'HZB_PaGr_20240527_Test-experiment_2_3.archive.json',\n",
       "  'HZB_PaGr_20240527_Test-experiment_2_4.archive.json',\n",
       "  'HZB_PaGr_20240527_Test-experiment_3.archive.json',\n",
       "  'HZB_PaGr_20240527_Test-experiment_3_0.archive.json',\n",
       "  'HZB_PaGr_20240527_Test-experiment_3_1.archive.json',\n",
       "  'HZB_PaGr_20240527_Test-experiment_3_2.archive.json',\n",
       "  'HZB_PaGr_20240527_Test-experiment_3_3.archive.json',\n",
       "  'HZB_PaGr_20240527_Test-experiment_3_4.archive.json',\n",
       "  'Test_experiment.archive.json',\n",
       "  'batch_plan_HZB_PaGr_20240527_Test-experiment.html'],\n",
       " 'entry_references': [{'target_upload_id': 'nqPLqDFfSs2EJydWxuqOoA',\n",
       "   'target_entry_id': 'YsCpoH_ltnJD4HkyP2ZZ2FwJKZOx',\n",
       "   'target_name': 'data',\n",
       "   'target_mainfile': 'mini_module_substrate_ito.archive.json',\n",
       "   'target_reference': '../uploads/nqPLqDFfSs2EJydWxuqOoA/archive/YsCpoH_ltnJD4HkyP2ZZ2FwJKZOx#data',\n",
       "   'source_path': 'data.substrate',\n",
       "   'target_path': '/data',\n",
       "   'source_name': 'substrate',\n",
       "   'source_quantity': 'baseclasses.solar_energy.solarcellsample.SolcarCellSample.substrate'}],\n",
       " 'entry_type': 'HySprint_Sample',\n",
       " 'entry_id': '-20CjHDeyUtPDI4E7EpFo-K5JFH-',\n",
       " 'upload_name': 'kghfk',\n",
       " 'authors': [{'user_id': '36705df2-2d25-4421-a247-2995ef5cdcc0',\n",
       "   'name': 'Paolo Graniero'}],\n",
       " 'license': 'CC BY 4.0',\n",
       " 'data': {'name': 'Test experiment HZB_PaGr_20240527_Test-experiment_1_2',\n",
       "  'datetime': '2024-05-27T13:01:36.703350+00:00',\n",
       "  'lab_id': 'HZB_PaGr_20240527_Test-experiment_1_2',\n",
       "  'architecture': 'pin'}}"
      ]
     },
     "execution_count": 38,
     "metadata": {},
     "output_type": "execute_result"
    }
   ],
   "source": [
    "response_entries['data'][0]"
   ]
  },
  {
   "cell_type": "code",
   "execution_count": 46,
   "id": "043b87c9",
   "metadata": {},
   "outputs": [
    {
     "data": {
      "text/plain": [
       "'HZB_PaGr_20240527_Test-experiment_1_2'"
      ]
     },
     "execution_count": 46,
     "metadata": {},
     "output_type": "execute_result"
    }
   ],
   "source": [
    "sample_id = response_entries['data'][0]['data']['lab_id']\n"
   ]
  },
  {
   "cell_type": "code",
   "execution_count": 41,
   "id": "2192f723",
   "metadata": {},
   "outputs": [
    {
     "data": {
      "text/plain": [
       "'tMZ_IUSbQGSyMWy8cb_BYQ'"
      ]
     },
     "execution_count": 41,
     "metadata": {},
     "output_type": "execute_result"
    }
   ],
   "source": [
    "upload_id = response_entries['data'][0]['upload_id']\n",
    "upload_id"
   ]
  },
  {
   "cell_type": "code",
   "execution_count": 42,
   "id": "5471064b",
   "metadata": {},
   "outputs": [],
   "source": [
    "#get upload details\n",
    "response_upload = client.make_request(\n",
    "    \"get\", f\"uploads/{upload_id}\", params={\"page_size\": 100}\n",
    ")"
   ]
  },
  {
   "cell_type": "code",
   "execution_count": 47,
   "id": "d4562691",
   "metadata": {},
   "outputs": [
    {
     "name": "stdout",
     "output_type": "stream",
     "text": [
      "Main Author: 36705df2-2d25-4421-a247-2995ef5cdcc0\n",
      "Co-authors: []\n",
      "Co-author Groups: []\n",
      "Upload Create Time: 2024-05-27T12:59:39.741000\n"
     ]
    }
   ],
   "source": [
    "# example upload:\n",
    "# {\n",
    "#     \"upload_id\": \"tMZ_IUSbQGSyMWy8cb_BYQ\",\n",
    "#     \"data\": {\n",
    "#         \"process_running\": False,\n",
    "#         \"current_process\": \"process_upload\",\n",
    "#         \"process_status\": \"SUCCESS\",\n",
    "#         \"last_status_message\": \"Process process_upload completed successfully\",\n",
    "#         \"errors\": [],\n",
    "#         \"warnings\": [],\n",
    "#         \"complete_time\": \"2024-10-08T20:18:58.057000\",\n",
    "#         \"upload_id\": \"tMZ_IUSbQGSyMWy8cb_BYQ\",\n",
    "#         \"upload_name\": \"kghfk\",\n",
    "#         \"upload_create_time\": \"2024-05-27T12:59:39.741000\",\n",
    "#         \"main_author\": \"36705df2-2d25-4421-a247-2995ef5cdcc0\",\n",
    "#         \"coauthors\": [],\n",
    "#         \"coauthor_groups\": [],\n",
    "#         \"reviewers\": [],\n",
    "#         \"reviewer_groups\": [],\n",
    "#         \"writers\": [\"36705df2-2d25-4421-a247-2995ef5cdcc0\"],\n",
    "#         \"writer_groups\": [],\n",
    "#         \"viewers\": [\"36705df2-2d25-4421-a247-2995ef5cdcc0\"],\n",
    "#         \"viewer_groups\": [],\n",
    "#         \"published\": False,\n",
    "#         \"published_to\": [],\n",
    "#         \"with_embargo\": False,\n",
    "#         \"embargo_length\": 0,\n",
    "#         \"license\": \"CC BY 4.0\",\n",
    "#         \"entries\": 42,\n",
    "#         \"upload_files_server_path\": \"/home/ubuntu/nomad-oasis/.volumes/fs/staging/tM/tMZ_IUSbQGSyMWy8cb_BYQ\",\n",
    "#     },\n",
    "# }\n",
    "main_author = response_upload['data']['main_author']\n",
    "coauthors = response_upload['data']['coauthors']\n",
    "coauthor_groups = response_upload['data']['coauthor_groups']\n",
    "upload_create_time = response_upload['data']['upload_create_time']\n",
    "\n",
    "print(f\"Main Author: {main_author}\")\n",
    "print(f\"Co-authors: {coauthors}\")\n",
    "print(f\"Co-author Groups: {coauthor_groups}\")\n",
    "print(f\"Upload Create Time: {upload_create_time}\")"
   ]
  },
  {
   "cell_type": "code",
   "execution_count": null,
   "id": "b004d7ed",
   "metadata": {},
   "outputs": [],
   "source": []
  },
  {
   "cell_type": "markdown",
   "id": "b04821e5",
   "metadata": {},
   "source": [
    "# Collect Author Information for All Samples\n",
    "\n",
    "This section demonstrates how to collect information about authors for all samples in the NOMAD database."
   ]
  },
  {
   "cell_type": "code",
   "execution_count": 49,
   "id": "fb756644",
   "metadata": {},
   "outputs": [],
   "source": [
    "# Import necessary modules from the nomad_api package\n",
    "from nomad_api.client import NomadClient\n",
    "import pandas as pd\n",
    "import datetime\n",
    "import json\n",
    "from collections import defaultdict\n",
    "import matplotlib.pyplot as plt\n",
    "import seaborn as sns"
   ]
  },
  {
   "cell_type": "code",
   "execution_count": 50,
   "id": "e171b3ad",
   "metadata": {},
   "outputs": [],
   "source": [
    "# Function to retrieve all samples with author information\n",
    "def get_all_samples_with_authors(client, page_size=100, max_pages=None):\n",
    "    \"\"\"\n",
    "    Retrieve all samples with their author information\n",
    "    \n",
    "    Args:\n",
    "        client: NomadClient instance\n",
    "        page_size: Number of entries per page\n",
    "        max_pages: Maximum number of pages to retrieve (None for all)\n",
    "        \n",
    "    Returns:\n",
    "        List of dictionaries with sample data and author information\n",
    "    \"\"\"\n",
    "    samples_with_authors = []\n",
    "    page = 1\n",
    "    total_pages = float('inf')  # Will be updated after first query\n",
    "    \n",
    "    # Query for samples (entries with HySprint_Sample sections)\n",
    "    query_payload = {\n",
    "        \"owner\": \"visible\",\n",
    "        \"query\": {\n",
    "            \"and\": [\n",
    "                {\"results.eln.sections:any\": [\"HySprint_Sample\"]},\n",
    "                {\"quantities:all\": [\"data\"]},\n",
    "            ]\n",
    "        },\n",
    "        \"pagination\": {\n",
    "            \"page_size\": page_size,\n",
    "            \"page\": page\n",
    "        }\n",
    "    }\n",
    "    \n",
    "    print(\"Retrieving samples with author information...\")\n",
    "    \n",
    "    while page <= total_pages and (max_pages is None or page <= max_pages):\n",
    "        # Update pagination for the current page\n",
    "        query_payload['pagination']['page'] = page\n",
    "        \n",
    "        # Get entries for the current page\n",
    "        response_entries = client.make_request(\"post\", \"entries/query\", json_data=query_payload)\n",
    "        \n",
    "        # Update total pages on first query\n",
    "        if page == 1:\n",
    "            total_entries = response_entries.get('pagination', {}).get('total', 0)\n",
    "            total_pages = (total_entries + page_size - 1) // page_size\n",
    "            print(f\"Found {total_entries} samples (approximately {total_pages} pages)\")\n",
    "            \n",
    "            if max_pages:\n",
    "                print(f\"Limiting to {max_pages} pages ({min(max_pages * page_size, total_entries)} samples)\")\n",
    "        \n",
    "        entries = response_entries.get('data', [])\n",
    "        \n",
    "        # Process entries in current page\n",
    "        for entry in entries:\n",
    "            try:\n",
    "                # Extract basic sample information\n",
    "                sample_info = {\n",
    "                    'entry_id': entry.get('entry_id'),\n",
    "                    'upload_id': entry.get('upload_id'),\n",
    "                    'lab_id': entry.get('data', {}).get('lab_id')\n",
    "                }\n",
    "                \n",
    "                # Get details about the upload (which contains author information)\n",
    "                upload_id = entry.get('upload_id')\n",
    "                if upload_id:\n",
    "                    response_upload = client.make_request(\"get\", f\"uploads/{upload_id}\")\n",
    "                    upload_data = response_upload.get('data', {})\n",
    "                    \n",
    "                    # Add author information\n",
    "                    sample_info.update({\n",
    "                        'main_author': upload_data.get('main_author'),\n",
    "                        'coauthors': upload_data.get('coauthors', []),\n",
    "                        'coauthor_groups': upload_data.get('coauthor_groups', []),\n",
    "                        'upload_create_time': upload_data.get('upload_create_time'),\n",
    "                        'published': upload_data.get('published', False),\n",
    "                        'license': upload_data.get('license'),\n",
    "                        'upload_name': upload_data.get('upload_name'),\n",
    "                    })\n",
    "                \n",
    "                samples_with_authors.append(sample_info)\n",
    "                \n",
    "            except Exception as e:\n",
    "                print(f\"Error processing entry {entry.get('entry_id')}: {str(e)}\")\n",
    "        \n",
    "        print(f\"Processed page {page}/{total_pages if max_pages is None else min(max_pages, total_pages)}\")\n",
    "        page += 1\n",
    "    \n",
    "    print(f\"Retrieved information for {len(samples_with_authors)} samples\")\n",
    "    return samples_with_authors"
   ]
  },
  {
   "cell_type": "code",
   "execution_count": 51,
   "id": "5ee4fe17",
   "metadata": {},
   "outputs": [
    {
     "name": "stdout",
     "output_type": "stream",
     "text": [
      "Retrieving samples with author information...\n",
      "Found 1363 samples (approximately 28 pages)\n",
      "Limiting to 5 pages (250 samples)\n",
      "Processed page 1/5\n",
      "Processed page 2/5\n",
      "Processed page 3/5\n",
      "Processed page 4/5\n",
      "Processed page 5/5\n",
      "Retrieved information for 250 samples\n"
     ]
    }
   ],
   "source": [
    "# Get all samples with author information (limiting to 5 pages for testing)\n",
    "# Remove the max_pages parameter to get all samples\n",
    "samples_data = get_all_samples_with_authors(client, page_size=50, max_pages=5)"
   ]
  },
  {
   "cell_type": "code",
   "execution_count": 52,
   "id": "cce8668e",
   "metadata": {},
   "outputs": [
    {
     "data": {
      "application/vnd.microsoft.datawrangler.viewer.v0+json": {
       "columns": [
        {
         "name": "index",
         "rawType": "int64",
         "type": "integer"
        },
        {
         "name": "entry_id",
         "rawType": "object",
         "type": "string"
        },
        {
         "name": "upload_id",
         "rawType": "object",
         "type": "string"
        },
        {
         "name": "lab_id",
         "rawType": "object",
         "type": "string"
        },
        {
         "name": "main_author",
         "rawType": "object",
         "type": "string"
        },
        {
         "name": "coauthors",
         "rawType": "object",
         "type": "unknown"
        },
        {
         "name": "coauthor_groups",
         "rawType": "object",
         "type": "unknown"
        },
        {
         "name": "upload_create_time",
         "rawType": "object",
         "type": "string"
        },
        {
         "name": "published",
         "rawType": "bool",
         "type": "boolean"
        },
        {
         "name": "license",
         "rawType": "object",
         "type": "string"
        },
        {
         "name": "upload_name",
         "rawType": "object",
         "type": "unknown"
        }
       ],
       "conversionMethod": "pd.DataFrame",
       "ref": "08c49fc3-7a19-4e38-999d-a58100e04cef",
       "rows": [
        [
         "0",
         "-20CjHDeyUtPDI4E7EpFo-K5JFH-",
         "tMZ_IUSbQGSyMWy8cb_BYQ",
         "HZB_PaGr_20240527_Test-experiment_1_2",
         "36705df2-2d25-4421-a247-2995ef5cdcc0",
         "[]",
         "[]",
         "2024-05-27T12:59:39.741000",
         "False",
         "CC BY 4.0",
         "kghfk"
        ],
        [
         "1",
         "-3UKqP7Vk3XDl0HnOMe5GuWaIhNS",
         "Yk5i_GB3RQqMEO3mIURIsg",
         "HZB_RiMe_20240312_KW_10_Module_Baseline_14_0",
         "e9e2df2f-5332-417e-9ae2-c5f1fc253678",
         "['925f6ddd-0270-4bd3-a413-96a4ddabde5b', 'f0d8a33f-afcc-4436-8d13-803b31a5aa00', '97b9d33f-91be-4851-93bd-d25625024e43', '36705df2-2d25-4421-a247-2995ef5cdcc0', 'e2796594-6a85-4a0b-a7ae-5862505c24d7', '3eab8fd3-f499-4fc1-aa1f-78792149aac8']",
         "[]",
         "2024-03-12T08:49:32.352000",
         "False",
         "CC BY 4.0",
         "KW10 Module Baseline"
        ],
        [
         "2",
         "-635Z62MBAoFkXDxqYfamU3qcgCX",
         "Uq7aoxCCRKe0g2sprkDbMg",
         "HZB_MMB_8-2002-3-0",
         "df8bc696-58aa-4571-95fb-d71a800e1c07",
         "[]",
         "['MjM4ze-URpu0NrHBulkRYg']",
         "2025-03-19T11:06:57.233000",
         "False",
         "CC BY 4.0",
         "MMB Batch 2002"
        ],
        [
         "3",
         "-EpU21KcOHh9-kpxTbEOo45o5WkX",
         "SsIwhyaWT4amgUlZjjNHbQ",
         "HZB_Solartap recipe_46_1_C-2",
         "cd74ddd3-78e1-48dc-b2f3-f7f430e94d2d",
         "['36705df2-2d25-4421-a247-2995ef5cdcc0']",
         "[]",
         "2025-03-19T16:03:53.726000",
         "False",
         "CC BY 4.0",
         "Yanyan Solartap recipe-batch 46 First batch for training Yuxin 20250912"
        ],
        [
         "4",
         "-EqVUCMOvMbkkS9YCTlUBEQosfHj",
         "NbVxs9BoQ4GJH8b7nX-TbA",
         "HZB_PaGr_20240227_test-pres_2_2",
         "36705df2-2d25-4421-a247-2995ef5cdcc0",
         "[]",
         "[]",
         "2024-02-27T10:45:41.111000",
         "False",
         "CC BY 4.0",
         null
        ]
       ],
       "shape": {
        "columns": 10,
        "rows": 5
       }
      },
      "text/html": [
       "<div>\n",
       "<style scoped>\n",
       "    .dataframe tbody tr th:only-of-type {\n",
       "        vertical-align: middle;\n",
       "    }\n",
       "\n",
       "    .dataframe tbody tr th {\n",
       "        vertical-align: top;\n",
       "    }\n",
       "\n",
       "    .dataframe thead th {\n",
       "        text-align: right;\n",
       "    }\n",
       "</style>\n",
       "<table border=\"1\" class=\"dataframe\">\n",
       "  <thead>\n",
       "    <tr style=\"text-align: right;\">\n",
       "      <th></th>\n",
       "      <th>entry_id</th>\n",
       "      <th>upload_id</th>\n",
       "      <th>lab_id</th>\n",
       "      <th>main_author</th>\n",
       "      <th>coauthors</th>\n",
       "      <th>coauthor_groups</th>\n",
       "      <th>upload_create_time</th>\n",
       "      <th>published</th>\n",
       "      <th>license</th>\n",
       "      <th>upload_name</th>\n",
       "    </tr>\n",
       "  </thead>\n",
       "  <tbody>\n",
       "    <tr>\n",
       "      <th>0</th>\n",
       "      <td>-20CjHDeyUtPDI4E7EpFo-K5JFH-</td>\n",
       "      <td>tMZ_IUSbQGSyMWy8cb_BYQ</td>\n",
       "      <td>HZB_PaGr_20240527_Test-experiment_1_2</td>\n",
       "      <td>36705df2-2d25-4421-a247-2995ef5cdcc0</td>\n",
       "      <td>[]</td>\n",
       "      <td>[]</td>\n",
       "      <td>2024-05-27T12:59:39.741000</td>\n",
       "      <td>False</td>\n",
       "      <td>CC BY 4.0</td>\n",
       "      <td>kghfk</td>\n",
       "    </tr>\n",
       "    <tr>\n",
       "      <th>1</th>\n",
       "      <td>-3UKqP7Vk3XDl0HnOMe5GuWaIhNS</td>\n",
       "      <td>Yk5i_GB3RQqMEO3mIURIsg</td>\n",
       "      <td>HZB_RiMe_20240312_KW_10_Module_Baseline_14_0</td>\n",
       "      <td>e9e2df2f-5332-417e-9ae2-c5f1fc253678</td>\n",
       "      <td>[925f6ddd-0270-4bd3-a413-96a4ddabde5b, f0d8a33...</td>\n",
       "      <td>[]</td>\n",
       "      <td>2024-03-12T08:49:32.352000</td>\n",
       "      <td>False</td>\n",
       "      <td>CC BY 4.0</td>\n",
       "      <td>KW10 Module Baseline</td>\n",
       "    </tr>\n",
       "    <tr>\n",
       "      <th>2</th>\n",
       "      <td>-635Z62MBAoFkXDxqYfamU3qcgCX</td>\n",
       "      <td>Uq7aoxCCRKe0g2sprkDbMg</td>\n",
       "      <td>HZB_MMB_8-2002-3-0</td>\n",
       "      <td>df8bc696-58aa-4571-95fb-d71a800e1c07</td>\n",
       "      <td>[]</td>\n",
       "      <td>[MjM4ze-URpu0NrHBulkRYg]</td>\n",
       "      <td>2025-03-19T11:06:57.233000</td>\n",
       "      <td>False</td>\n",
       "      <td>CC BY 4.0</td>\n",
       "      <td>MMB Batch 2002</td>\n",
       "    </tr>\n",
       "    <tr>\n",
       "      <th>3</th>\n",
       "      <td>-EpU21KcOHh9-kpxTbEOo45o5WkX</td>\n",
       "      <td>SsIwhyaWT4amgUlZjjNHbQ</td>\n",
       "      <td>HZB_Solartap recipe_46_1_C-2</td>\n",
       "      <td>cd74ddd3-78e1-48dc-b2f3-f7f430e94d2d</td>\n",
       "      <td>[36705df2-2d25-4421-a247-2995ef5cdcc0]</td>\n",
       "      <td>[]</td>\n",
       "      <td>2025-03-19T16:03:53.726000</td>\n",
       "      <td>False</td>\n",
       "      <td>CC BY 4.0</td>\n",
       "      <td>Yanyan Solartap recipe-batch 46 First batch fo...</td>\n",
       "    </tr>\n",
       "    <tr>\n",
       "      <th>4</th>\n",
       "      <td>-EqVUCMOvMbkkS9YCTlUBEQosfHj</td>\n",
       "      <td>NbVxs9BoQ4GJH8b7nX-TbA</td>\n",
       "      <td>HZB_PaGr_20240227_test-pres_2_2</td>\n",
       "      <td>36705df2-2d25-4421-a247-2995ef5cdcc0</td>\n",
       "      <td>[]</td>\n",
       "      <td>[]</td>\n",
       "      <td>2024-02-27T10:45:41.111000</td>\n",
       "      <td>False</td>\n",
       "      <td>CC BY 4.0</td>\n",
       "      <td>None</td>\n",
       "    </tr>\n",
       "  </tbody>\n",
       "</table>\n",
       "</div>"
      ],
      "text/plain": [
       "                       entry_id               upload_id  \\\n",
       "0  -20CjHDeyUtPDI4E7EpFo-K5JFH-  tMZ_IUSbQGSyMWy8cb_BYQ   \n",
       "1  -3UKqP7Vk3XDl0HnOMe5GuWaIhNS  Yk5i_GB3RQqMEO3mIURIsg   \n",
       "2  -635Z62MBAoFkXDxqYfamU3qcgCX  Uq7aoxCCRKe0g2sprkDbMg   \n",
       "3  -EpU21KcOHh9-kpxTbEOo45o5WkX  SsIwhyaWT4amgUlZjjNHbQ   \n",
       "4  -EqVUCMOvMbkkS9YCTlUBEQosfHj  NbVxs9BoQ4GJH8b7nX-TbA   \n",
       "\n",
       "                                         lab_id  \\\n",
       "0         HZB_PaGr_20240527_Test-experiment_1_2   \n",
       "1  HZB_RiMe_20240312_KW_10_Module_Baseline_14_0   \n",
       "2                            HZB_MMB_8-2002-3-0   \n",
       "3                  HZB_Solartap recipe_46_1_C-2   \n",
       "4               HZB_PaGr_20240227_test-pres_2_2   \n",
       "\n",
       "                            main_author  \\\n",
       "0  36705df2-2d25-4421-a247-2995ef5cdcc0   \n",
       "1  e9e2df2f-5332-417e-9ae2-c5f1fc253678   \n",
       "2  df8bc696-58aa-4571-95fb-d71a800e1c07   \n",
       "3  cd74ddd3-78e1-48dc-b2f3-f7f430e94d2d   \n",
       "4  36705df2-2d25-4421-a247-2995ef5cdcc0   \n",
       "\n",
       "                                           coauthors  \\\n",
       "0                                                 []   \n",
       "1  [925f6ddd-0270-4bd3-a413-96a4ddabde5b, f0d8a33...   \n",
       "2                                                 []   \n",
       "3             [36705df2-2d25-4421-a247-2995ef5cdcc0]   \n",
       "4                                                 []   \n",
       "\n",
       "            coauthor_groups          upload_create_time  published    license  \\\n",
       "0                        []  2024-05-27T12:59:39.741000      False  CC BY 4.0   \n",
       "1                        []  2024-03-12T08:49:32.352000      False  CC BY 4.0   \n",
       "2  [MjM4ze-URpu0NrHBulkRYg]  2025-03-19T11:06:57.233000      False  CC BY 4.0   \n",
       "3                        []  2025-03-19T16:03:53.726000      False  CC BY 4.0   \n",
       "4                        []  2024-02-27T10:45:41.111000      False  CC BY 4.0   \n",
       "\n",
       "                                         upload_name  \n",
       "0                                              kghfk  \n",
       "1                               KW10 Module Baseline  \n",
       "2                                     MMB Batch 2002  \n",
       "3  Yanyan Solartap recipe-batch 46 First batch fo...  \n",
       "4                                               None  "
      ]
     },
     "execution_count": 52,
     "metadata": {},
     "output_type": "execute_result"
    }
   ],
   "source": [
    "# Convert to DataFrame for easier analysis\n",
    "samples_df = pd.DataFrame(samples_data)\n",
    "\n",
    "# Display the first few rows\n",
    "samples_df.head()"
   ]
  },
  {
   "cell_type": "code",
   "execution_count": 53,
   "id": "e678a22b",
   "metadata": {},
   "outputs": [
    {
     "name": "stdout",
     "output_type": "stream",
     "text": [
      "Data saved to 'nomad_samples_with_authors.csv'\n"
     ]
    }
   ],
   "source": [
    "# Save the data to CSV for backup and further analysis\n",
    "samples_df.to_csv('nomad_samples_with_authors.csv', index=False)\n",
    "print(f\"Data saved to 'nomad_samples_with_authors.csv'\")"
   ]
  },
  {
   "cell_type": "markdown",
   "id": "ce93cf08",
   "metadata": {},
   "source": [
    "# Enriching Author Information\n",
    "\n",
    "To make the data more useful for dashboards, let's enrich it by retrieving user details for the author IDs."
   ]
  },
  {
   "cell_type": "code",
   "execution_count": 55,
   "id": "7b1fe3aa",
   "metadata": {},
   "outputs": [],
   "source": [
    "# Function to get user details by user_id\n",
    "def get_user_details(client, user_id):\n",
    "    \"\"\"Get detailed information about a user by their ID\"\"\"\n",
    "    try:\n",
    "        response = client.make_request('get', f'users/{user_id}')\n",
    "        return response\n",
    "    except Exception as e:\n",
    "        print(f\"Error getting user {user_id}: {str(e)}\")\n",
    "        return None"
   ]
  },
  {
   "cell_type": "code",
   "execution_count": 56,
   "id": "c3307378",
   "metadata": {},
   "outputs": [
    {
     "name": "stdout",
     "output_type": "stream",
     "text": [
      "Found 31 unique authors\n"
     ]
    }
   ],
   "source": [
    "# Create a dictionary to store user details (to avoid duplicate API calls)\n",
    "user_cache = {}\n",
    "\n",
    "# Get unique author IDs\n",
    "unique_authors = set(samples_df['main_author'].unique())\n",
    "for coauthors_list in samples_df['coauthors'].dropna():\n",
    "    if isinstance(coauthors_list, list):\n",
    "        unique_authors.update(coauthors_list)\n",
    "\n",
    "print(f\"Found {len(unique_authors)} unique authors\")"
   ]
  },
  {
   "cell_type": "code",
   "execution_count": 57,
   "id": "3a15bb07",
   "metadata": {},
   "outputs": [
    {
     "name": "stdout",
     "output_type": "stream",
     "text": [
      "Retrieved details for 31 users\n"
     ]
    }
   ],
   "source": [
    "# Retrieve user details for each unique author\n",
    "for user_id in unique_authors:\n",
    "    if user_id and user_id not in user_cache:\n",
    "        user_details = get_user_details(client, user_id)\n",
    "        if user_details:\n",
    "            user_cache[user_id] = user_details\n",
    "            \n",
    "print(f\"Retrieved details for {len(user_cache)} users\")"
   ]
  },
  {
   "cell_type": "code",
   "execution_count": 58,
   "id": "c01e2b9b",
   "metadata": {},
   "outputs": [],
   "source": [
    "# Create a mapping from user ID to user name for easier reference\n",
    "user_id_to_name = {}\n",
    "\n",
    "for user_id, user_info in user_cache.items():\n",
    "    name = user_info.get('name') or user_info.get('username', 'Unknown')\n",
    "    user_id_to_name[user_id] = name\n",
    "\n",
    "# Add user names to the DataFrame\n",
    "samples_df['main_author_name'] = samples_df['main_author'].map(lambda x: user_id_to_name.get(x, 'Unknown'))\n",
    "\n",
    "# For coauthors (which is a list), add a new column with names\n",
    "def get_coauthor_names(coauthor_ids):\n",
    "    if not isinstance(coauthor_ids, list):\n",
    "        return []\n",
    "    return [user_id_to_name.get(user_id, 'Unknown') for user_id in coauthor_ids]\n",
    "\n",
    "samples_df['coauthor_names'] = samples_df['coauthors'].apply(get_coauthor_names)"
   ]
  },
  {
   "cell_type": "markdown",
   "id": "9b644a08",
   "metadata": {},
   "source": [
    "# Data Analysis and Dashboard Preparation\n",
    "\n",
    "Now let's analyze the data and create some visualizations for our dashboard."
   ]
  },
  {
   "cell_type": "code",
   "execution_count": 59,
   "id": "76279e5c",
   "metadata": {},
   "outputs": [
    {
     "data": {
      "image/png": "[encoded data removed]",
      "text/plain": [
       "<Figure size 1200x600 with 1 Axes>"
      ]
     },
     "metadata": {},
     "output_type": "display_data"
    }
   ],
   "source": [
    "# 1. Count samples per main author\n",
    "author_sample_counts = samples_df['main_author_name'].value_counts()\n",
    "\n",
    "# Create a bar chart\n",
    "plt.figure(figsize=(12, 6))\n",
    "author_sample_counts.head(15).plot(kind='bar')\n",
    "plt.title('Number of Samples by Main Author (Top 15)', fontsize=14)\n",
    "plt.xlabel('Author')\n",
    "plt.ylabel('Number of Samples')\n",
    "plt.xticks(rotation=45, ha='right')\n",
    "plt.tight_layout()\n",
    "plt.show()"
   ]
  },
  {
   "cell_type": "code",
   "execution_count": 60,
   "id": "6447e161",
   "metadata": {},
   "outputs": [
    {
     "data": {
      "image/png": "[encoded data removed]",
      "text/plain": [
       "<Figure size 1400x600 with 1 Axes>"
      ]
     },
     "metadata": {},
     "output_type": "display_data"
    }
   ],
   "source": [
    "# 2. Analyze sample creation over time\n",
    "\n",
    "# Convert upload_create_time to datetime\n",
    "samples_df['upload_date'] = pd.to_datetime(samples_df['upload_create_time'])\n",
    "\n",
    "# Extract year and month for time series analysis\n",
    "samples_df['year_month'] = samples_df['upload_date'].dt.to_period('M')\n",
    "\n",
    "# Count samples by month\n",
    "time_series = samples_df.groupby('year_month').size()\n",
    "\n",
    "# Plot time series\n",
    "plt.figure(figsize=(14, 6))\n",
    "time_series.plot(kind='line', marker='o')\n",
    "plt.title('Sample Uploads Over Time', fontsize=14)\n",
    "plt.xlabel('Date (Year-Month)')\n",
    "plt.ylabel('Number of Samples')\n",
    "plt.grid(True, alpha=0.3)\n",
    "plt.tight_layout()\n",
    "plt.show()"
   ]
  },
  {
   "cell_type": "code",
   "execution_count": 61,
   "id": "8706a3a2",
   "metadata": {},
   "outputs": [
    {
     "data": {
      "image/png": "[encoded data removed]",
      "text/plain": [
       "<Figure size 1000x600 with 1 Axes>"
      ]
     },
     "metadata": {},
     "output_type": "display_data"
    }
   ],
   "source": [
    "# 3. Analyze collaboration patterns (co-authorship)\n",
    "\n",
    "# Count number of coauthors per sample\n",
    "samples_df['coauthor_count'] = samples_df['coauthors'].apply(lambda x: len(x) if isinstance(x, list) else 0)\n",
    "\n",
    "# Plot distribution of number of coauthors\n",
    "plt.figure(figsize=(10, 6))\n",
    "sns.histplot(samples_df['coauthor_count'], bins=range(0, max(samples_df['coauthor_count'])+2))\n",
    "plt.title('Distribution of Co-authors per Sample', fontsize=14)\n",
    "plt.xlabel('Number of Co-authors')\n",
    "plt.ylabel('Frequency')\n",
    "plt.grid(True, alpha=0.3)\n",
    "plt.tight_layout()\n",
    "plt.show()"
   ]
  },
  {
   "cell_type": "code",
   "execution_count": 62,
   "id": "f367bb93",
   "metadata": {},
   "outputs": [
    {
     "name": "stdout",
     "output_type": "stream",
     "text": [
      "Top 10 collaborations:\n",
      "Michael Götte ↔ Janardan Dagar: 46 samples\n",
      "Michael Götte ↔ Pramila Patil: 46 samples\n",
      "Michael Götte ↔ Eva Unger: 46 samples\n",
      "Michael Götte ↔ Edgar Nandayapa: 46 samples\n",
      "Michael Götte ↔ Rico Meitzner: 46 samples\n",
      "Michael Götte ↔ Paolo Graniero: 46 samples\n",
      "Michael Götte ↔ Anton Dzhong: 42 samples\n",
      "Paolo Graniero ↔ Janardan Dagar: 21 samples\n",
      "Rico Meitzner ↔ Paolo Graniero: 20 samples\n",
      "Rico Meitzner ↔ Michael Götte: 20 samples\n"
     ]
    }
   ],
   "source": [
    "# 4. Create collaboration network data (for network visualization)\n",
    "collaborations = []\n",
    "\n",
    "# For each sample, create pairs of collaborating authors\n",
    "for _, row in samples_df.iterrows():\n",
    "    main_author = row['main_author']\n",
    "    main_author_name = row['main_author_name']\n",
    "    \n",
    "    # Add collaboration between main author and each co-author\n",
    "    coauthors = row['coauthors']\n",
    "    if isinstance(coauthors, list) and len(coauthors) > 0:\n",
    "        for coauthor in coauthors:\n",
    "            coauthor_name = user_id_to_name.get(coauthor, 'Unknown')\n",
    "            collaborations.append((main_author_name, coauthor_name))\n",
    "\n",
    "# Count frequency of each collaboration\n",
    "from collections import Counter\n",
    "collaboration_counts = Counter(collaborations)\n",
    "\n",
    "# Print the top 10 most frequent collaborations\n",
    "print(\"Top 10 collaborations:\")\n",
    "for collab, count in collaboration_counts.most_common(10):\n",
    "    print(f\"{collab[0]} ↔ {collab[1]}: {count} samples\")"
   ]
  },
  {
   "cell_type": "markdown",
   "id": "512d9f5f",
   "metadata": {},
   "source": [
    "# Prepare Data for Interactive Dashboard\n",
    "\n",
    "Let's prepare and save structured data for an interactive dashboard."
   ]
  },
  {
   "cell_type": "code",
   "execution_count": 65,
   "id": "413b855b",
   "metadata": {},
   "outputs": [
    {
     "name": "stdout",
     "output_type": "stream",
     "text": [
      "Summary statistics saved for dashboard\n"
     ]
    }
   ],
   "source": [
    "# Convert our dataframe to more dashboard-friendly formats\n",
    "\n",
    "# 1. Summary statistics\n",
    "dashboard_stats = {\n",
    "    'total_samples': int(len(samples_df)),\n",
    "    'total_authors': int(len(unique_authors)),\n",
    "    'published_samples': int(samples_df['published'].sum()),\n",
    "    'private_samples': int(len(samples_df) - samples_df['published'].sum()),\n",
    "    'samples_with_coauthors': int((samples_df['coauthor_count'] > 0).sum()),\n",
    "    'avg_coauthors_per_sample': float(samples_df['coauthor_count'].mean()),\n",
    "    'most_prolific_author': str(author_sample_counts.index[0]),\n",
    "    'most_prolific_author_count': int(author_sample_counts.iloc[0]),\n",
    "    'most_recent_upload': samples_df['upload_date'].max().strftime('%Y-%m-%d'),\n",
    "    'oldest_upload': samples_df['upload_date'].min().strftime('%Y-%m-%d'),\n",
    "}\n",
    "\n",
    "# Save summary stats\n",
    "with open('dashboard_summary_stats.json', 'w') as f:\n",
    "    json.dump(dashboard_stats, f, indent=2)\n",
    "\n",
    "print(\"Summary statistics saved for dashboard\")"
   ]
  },
  {
   "cell_type": "code",
   "execution_count": 67,
   "id": "04d84a9a",
   "metadata": {},
   "outputs": [
    {
     "name": "stdout",
     "output_type": "stream",
     "text": [
      "Data for interactive dashboard saved successfully.\n"
     ]
    }
   ],
   "source": [
    "# 2. Time series data (monthly uploads)\n",
    "time_series_data = {\n",
    "    'dates': [str(period) for period in time_series.index],\n",
    "    'counts': [int(count) for count in time_series.values]  # Convert numpy.int64 to Python int\n",
    "}\n",
    "\n",
    "# Save time series data\n",
    "with open('dashboard_time_series.json', 'w') as f:\n",
    "    json.dump(time_series_data, f)\n",
    "\n",
    "# 3. Author statistics\n",
    "author_stats = []\n",
    "for author_name, count in author_sample_counts.items():\n",
    "    # Get author ID\n",
    "    author_id = None\n",
    "    for id, name in user_id_to_name.items():\n",
    "        if name == author_name:\n",
    "            author_id = id\n",
    "            break\n",
    "            \n",
    "    author_stats.append({\n",
    "        'author_name': author_name,\n",
    "        'author_id': author_id,\n",
    "        'sample_count': int(count),\n",
    "        # Additional metrics could be added here\n",
    "    })\n",
    "\n",
    "# Save author statistics\n",
    "with open('dashboard_author_stats.json', 'w') as f:\n",
    "    json.dump(author_stats, f, indent=2)\n",
    "\n",
    "# 4. Collaboration network data\n",
    "network_data = {\n",
    "    'nodes': [{'id': author, 'group': 1, 'size': author_sample_counts.get(author, 1)} \n",
    "              for author in set(user_id_to_name.values())],\n",
    "    'links': [{'source': source, 'target': target, 'value': count} \n",
    "              for (source, target), count in collaboration_counts.items()]\n",
    "}\n",
    "\n",
    "# Save network data\n",
    "with open('dashboard_network.json', 'w') as f:\n",
    "    # Convert any NumPy types to Python native types\n",
    "    network_data_serializable = json.loads(\n",
    "        json.dumps(network_data, default=lambda x: int(x) if hasattr(x, 'dtype') else x)\n",
    "    )\n",
    "    json.dump(network_data_serializable, f, indent=2)\n",
    "\n",
    "print(\"Data for interactive dashboard saved successfully.\")"
   ]
  },
  {
   "cell_type": "markdown",
   "id": "f0aaabc3",
   "metadata": {},
   "source": [
    "# Summary\n",
    "\n",
    "We've collected comprehensive author information for all samples from NOMAD, structured this data for analysis, and created visualizations. The data has been saved in formats suitable for building interactive dashboards.\n",
    "\n",
    "The following files were created:\n",
    "\n",
    "1. `nomad_samples_with_authors.csv` - Raw data with all samples and their author information\n",
    "2. `dashboard_summary_stats.json` - Summary statistics for the dashboard\n",
    "3. `dashboard_time_series.json` - Time series data for charts\n",
    "4. `dashboard_author_stats.json` - Detailed author statistics\n",
    "5. `dashboard_network.json` - Collaboration network data for network visualizations\n",
    "\n",
    "These can be used with dashboard frameworks like Plotly Dash, Streamlit, or web-based visualization libraries like D3.js to create interactive dashboards."
   ]
  }
 ],
 "metadata": {
  "kernelspec": {
   "display_name": ".venv",
   "language": "python",
   "name": "python3"
  },
  "language_info": {
   "codemirror_mode": {
    "name": "ipython",
    "version": 3
   },
   "file_extension": ".py",
   "mimetype": "text/x-python",
   "name": "python",
   "nbconvert_exporter": "python",
   "pygments_lexer": "ipython3",
   "version": "3.11.11"
  }
 },
 "nbformat": 4,
 "nbformat_minor": 5
}
